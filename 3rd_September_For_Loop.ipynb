{
 "cells": [
  {
   "cell_type": "code",
   "execution_count": null,
   "id": "adfdce79-9a04-4e1b-a02f-74d6fe6b0729",
   "metadata": {},
   "outputs": [],
   "source": [
    "#For Loop Assignment Questions"
   ]
  },
  {
   "cell_type": "code",
   "execution_count": null,
   "id": "c77e1c3d-7ffd-4a86-8c54-da5570dafd31",
   "metadata": {},
   "outputs": [],
   "source": [
    "#Basic Level:"
   ]
  },
  {
   "cell_type": "code",
   "execution_count": 2,
   "id": "37f9c243-dc3e-43f8-96c4-ba802be37a43",
   "metadata": {},
   "outputs": [
    {
     "name": "stdout",
     "output_type": "stream",
     "text": [
      "1\n",
      "2\n",
      "3\n",
      "4\n",
      "5\n",
      "6\n",
      "7\n",
      "8\n",
      "9\n",
      "10\n"
     ]
    }
   ],
   "source": [
    "#Q1 Write a Python program to print the numbers from 1 to 10 using a `for` loop.\n",
    "\n",
    "\n",
    "def printnum():\n",
    "    for i in range(1,11):\n",
    "        print(i)\n",
    "        \n",
    "        \n",
    "printnum()"
   ]
  },
  {
   "cell_type": "markdown",
   "id": "db71b5ce-9d08-4cc7-b531-b40f5bed5d7a",
   "metadata": {},
   "source": [
    "The for loop prints the number from 1 to 10 using the range() function here i is a temporary variable that is iterating over numbers from 1 to 10.\n",
    "\n",
    "The for loop is used to iterate through the range of numbers from 1 to 10 (inclusive). \n",
    "\n",
    "The range() function generates a sequence of numbers, starting from the first argument (1) up to, but not including, the second argument (11),\n",
    "similar to list indexing in range starts from 0 which means range( j )will print sequence till ( j-1) hence the output doesn’t include 11."
   ]
  },
  {
   "cell_type": "code",
   "execution_count": 5,
   "id": "13a62846-4eb7-4977-82c7-de95ee6a6fdd",
   "metadata": {},
   "outputs": [
    {
     "name": "stdin",
     "output_type": "stream",
     "text": [
      "Enter number of elements :  5\n",
      " 11\n",
      " 22\n",
      " 33\n",
      " 44\n",
      " 55\n"
     ]
    },
    {
     "name": "stdout",
     "output_type": "stream",
     "text": [
      "Your entered list : [11, 22, 33, 44, 55]\n",
      "Sum of your list : 165\n"
     ]
    }
   ],
   "source": [
    "#Q2 Create a program that calculates the sum of all numbers in a list using a `for` loop.\n",
    "\n",
    "\n",
    "\n",
    "def printsum(lst):\n",
    "    val=0\n",
    "    for i in range(n):\n",
    "        val=val+lst[i]\n",
    "    print(\"Sum of your list :\",val)\n",
    "def inputlst(lst):\n",
    "    for i in range(0,n):\n",
    "        u=int(input())\n",
    "        lst.append(u)\n",
    "    print(\"Your entered list :\",lst)\n",
    "\n",
    "        \n",
    "        \n",
    "n = int(input(\"Enter number of elements : \"))  \n",
    "lst=[]\n",
    "inputlst(lst)\n",
    "printsum(lst)"
   ]
  },
  {
   "cell_type": "markdown",
   "id": "07bf95d8-4c15-40e0-a460-3a8feb1ee906",
   "metadata": {},
   "source": [
    "1)Firstly get the number of elements from the user and store it in the variable.\n",
    "\n",
    "2) Create a function inputlst and use a for loop to get the elements from the user and add them to the list\n",
    "\n",
    "3) Now create an another function printsum for adding the number input in the list \n",
    "\n",
    "4) Now Initialize a variable val with zero.\n",
    "\n",
    "5) Use a for loop to iterate from 0 to number of elements .Inside the loop, add the element of list to the val.At the end, print the value of the sum."
   ]
  },
  {
   "cell_type": "code",
   "execution_count": 2,
   "id": "408295c6-4499-42df-a3ea-fc9ff5e0e19a",
   "metadata": {},
   "outputs": [
    {
     "name": "stdin",
     "output_type": "stream",
     "text": [
      "Enter your string :  Madam\n"
     ]
    },
    {
     "name": "stdout",
     "output_type": "stream",
     "text": [
      "The original string is:  Madam\n",
      "The reverse string is madaM\n"
     ]
    }
   ],
   "source": [
    "#Q3 Write a program to print the characters of a string in reverse order using a `for` loop.\n",
    "\n",
    "\n",
    "def reverse_string(str1):  \n",
    "    str2 = \"\"   # Declaring empty string to store the reversed string  \n",
    "    for i in str1:  \n",
    "        str2 = i + str2  \n",
    "    return str2    # It will return the reverse string to the caller function  \n",
    "     \n",
    "str1 = str(input(\"Enter your string : \"))      \n",
    "print(\"The original string is: \",str1)  \n",
    "print(\"The reverse string is\",reverse_string(str1)) # Function call  "
   ]
  },
  {
   "cell_type": "markdown",
   "id": "a14f097d-16f0-43ad-9701-46b25d56b960",
   "metadata": {},
   "source": [
    "1)We have passed the str argument and declared the reverse_string() function in the code above.\n",
    "\n",
    "2) We have declared the empty string variable str2 in the body of the function, which will store the reversed string.\n",
    "\n",
    "3) The for loop then iterated over each part of the given string, joining each character at the beginning and saving the results in the str2 variable.\n",
    "\n",
    "4) After the total cycle, it returned the opposite request string str2 to the guest capability.\n",
    "\n",
    "5)  The result should be displayed on the screen."
   ]
  },
  {
   "cell_type": "code",
   "execution_count": 6,
   "id": "6992b02b-3aa9-43db-bd24-4859057fa2d3",
   "metadata": {},
   "outputs": [
    {
     "name": "stdin",
     "output_type": "stream",
     "text": [
      "Enter your number :  5\n"
     ]
    },
    {
     "name": "stdout",
     "output_type": "stream",
     "text": [
      "Factorial of the number is : 120\n"
     ]
    }
   ],
   "source": [
    "#Q4 Develop a program that finds the factorial of a given number using a `for` loop\n",
    "\n",
    "\n",
    "def fact(n):\n",
    "    f=1\n",
    "    for i in range (1,n+1):\n",
    "        f=f*i\n",
    "    return f\n",
    "\n",
    "    \n",
    "n = int(input(\"Enter your number : \")) \n",
    "print(\"Factorial of the number is :\",fact(n))"
   ]
  },
  {
   "cell_type": "markdown",
   "id": "3890c028-7ed1-4e8a-adcc-10d60f3dc1a0",
   "metadata": {},
   "source": [
    "1)Get a positive integer input (n) from the user.\n",
    "\n",
    "2)Iterate from 1 to n using a for loop (for loop is used to increment the number up to the given input)\n",
    "\n",
    "3) Using the below formula, calculate the factorial of a number = f*i.\n",
    "\n",
    "4) Print the output i.e the calculated factorial."
   ]
  },
  {
   "cell_type": "code",
   "execution_count": 3,
   "id": "fcc1389c-e022-4941-8495-4e91f7d55dae",
   "metadata": {},
   "outputs": [
    {
     "name": "stdin",
     "output_type": "stream",
     "text": [
      "Enter the number of which the user wants to print the multiplication table:  9\n"
     ]
    },
    {
     "name": "stdout",
     "output_type": "stream",
     "text": [
      "The Multiplication Table of:  9\n",
      "9 * 1 = 9\n",
      "9 * 2 = 18\n",
      "9 * 3 = 27\n",
      "9 * 4 = 36\n",
      "9 * 5 = 45\n",
      "9 * 6 = 54\n",
      "9 * 7 = 63\n",
      "9 * 8 = 72\n",
      "9 * 9 = 81\n",
      "9 * 10 = 90\n"
     ]
    }
   ],
   "source": [
    "#Q5 Create a program to print the multiplication table of a given number using a `for` loop.\n",
    "\n",
    "\n",
    "def table(n):\n",
    "    print (\"The Multiplication Table of: \", n)\n",
    "    for count in range (1,11):\n",
    "        print(n,\"*\",count,\"=\",n*count)\n",
    "        \n",
    "\n",
    "n = int(input (\"Enter the number of which the user wants to print the multiplication table: \"))   \n",
    "table(n)"
   ]
  },
  {
   "cell_type": "markdown",
   "id": "7eb1c7b7-b0ca-48b2-b8d4-fc95ce9ee929",
   "metadata": {},
   "source": [
    "1)In the above program, we have taken an input integer number from the user. \n",
    "\n",
    "2)Then we have iterated for loop using the range (1, 11) function, which means greater than or equal to 1 and less than 11. \n",
    "\n",
    "3)  In the second iteration, 2 is multiplied by the given number, and so on.\n",
    "\n",
    "4)In our case, we have printed the table of 9. User can provide the different numbers to test the program."
   ]
  },
  {
   "cell_type": "code",
   "execution_count": 5,
   "id": "2c28b047-6e6d-4dec-b707-eb9af5e97d06",
   "metadata": {},
   "outputs": [
    {
     "name": "stdin",
     "output_type": "stream",
     "text": [
      "Enter number of elements :  6\n",
      " 11\n",
      " 22\n",
      " 33\n",
      " 44\n",
      " 55\n",
      " 66\n"
     ]
    },
    {
     "name": "stdout",
     "output_type": "stream",
     "text": [
      "Your entered list : [11, 22, 33, 44, 55, 66]\n",
      "Even numbers in the list:  3\n",
      "Odd numbers in the list:  3\n"
     ]
    }
   ],
   "source": [
    "#Q6 Write a program that counts the number of even and odd numbers in a list using a `for` loop.\n",
    "\n",
    "\n",
    "def inputlst(lst):\n",
    "    for i in range(0,n):\n",
    "        u=int(input())\n",
    "        lst.append(u)\n",
    "    print(\"Your entered list :\",lst)\n",
    "def evenandoddcount(lst):\n",
    "    even_count, odd_count = 0, 0\n",
    "    for num in lst:\n",
    "        if num % 2 == 0:\n",
    "            even_count += 1\n",
    "        else:\n",
    "            odd_count += 1\n",
    "    print(\"Even numbers in the list: \", even_count)\n",
    "    print(\"Odd numbers in the list: \", odd_count)\n",
    "\n",
    "\n",
    "n = int(input(\"Enter number of elements : \"))  \n",
    "lst=[]\n",
    "inputlst(lst)\n",
    "evenandoddcount(lst)"
   ]
  },
  {
   "cell_type": "markdown",
   "id": "6e58e735-d849-4b0b-acb6-15c5e1f34db5",
   "metadata": {},
   "source": [
    "1)Firstly get the number of elements from the user and store it in the variable.\n",
    "\n",
    "2) Create a function inputlst and use a for loop to get the elements from the user and add them to the list\n",
    "\n",
    "3) Now create an another function printsum for counting number of odd & even input in the list.\n",
    " \n",
    "4) Now Initialize two  variable even_count, odd_count with zero.\n",
    "\n",
    "5) Use a for loop to access all the element of the list .\n",
    "\n",
    "6).Inside the loop, take if else for checking if the elment of list is divisble by 2 or not .\n",
    "\n",
    "7). If yes then +1 in even_count else +1 in odd_count.Finally print the even_count, odd_count."
   ]
  },
  {
   "cell_type": "code",
   "execution_count": 7,
   "id": "2a792b9b-b88d-4076-b456-598e26459fb7",
   "metadata": {},
   "outputs": [
    {
     "name": "stdout",
     "output_type": "stream",
     "text": [
      "1\n",
      "4\n",
      "9\n",
      "16\n",
      "25\n"
     ]
    }
   ],
   "source": [
    "#Q7 Develop a program that prints the squares of numbers from 1 to 5 using a `for` loop.\n",
    "\n",
    "\n",
    "def square():\n",
    "    for i in range (1,6):\n",
    "        print( i*i)\n",
    "    \n",
    "\n",
    "square()"
   ]
  },
  {
   "cell_type": "markdown",
   "id": "6c05073e-87ce-40c7-8639-cb9934925fdd",
   "metadata": {},
   "source": [
    "1). Create a function square and use a for loop with range 1 to 6 as we want squares till 5 .\n",
    "\n",
    "2). Print the product i with i .\n",
    "\n",
    "3). Call the function square()."
   ]
  },
  {
   "cell_type": "code",
   "execution_count": 11,
   "id": "d09ad77b-dd17-4f91-ae73-d91e2eccf485",
   "metadata": {},
   "outputs": [
    {
     "name": "stdin",
     "output_type": "stream",
     "text": [
      "Enter your string :  titanic\n"
     ]
    },
    {
     "name": "stdout",
     "output_type": "stream",
     "text": [
      "The original string is:  titanic\n",
      "The length of string is 7\n"
     ]
    }
   ],
   "source": [
    "#Q8 Create a program to find the length of a string without using the `len()` function.\n",
    "\n",
    "\n",
    "def count_length(str1):\n",
    "    count=0\n",
    "    for i in str1:\n",
    "        count+=1\n",
    "    return count\n",
    "    \n",
    "\n",
    "    \n",
    "str1 = str(input(\"Enter your string : \"))      \n",
    "print(\"The original string is: \",str1)  \n",
    "print(\"The length of string is\",count_length(str1))"
   ]
  },
  {
   "cell_type": "markdown",
   "id": "85c01271-3e9f-4d4a-a40e-0e92b10f6580",
   "metadata": {},
   "source": [
    "1)Firstly define a function count_length and Initialize a count variable. \n",
    "\n",
    "2) Start a for loop by iterating every element of a string.\n",
    "\n",
    "3) Increment count variable by 1 & Print count.\n",
    " \n",
    "4) Take a sting as user input and call the function."
   ]
  },
  {
   "cell_type": "code",
   "execution_count": 13,
   "id": "fdbae75f-84cb-4362-963d-a323bf00b0f8",
   "metadata": {},
   "outputs": [
    {
     "name": "stdin",
     "output_type": "stream",
     "text": [
      "Enter number of elements :  8\n",
      " 11\n",
      " 22\n",
      " 33\n",
      " 44\n",
      " 55\n",
      " 66\n",
      " 77\n",
      " 88\n"
     ]
    },
    {
     "name": "stdout",
     "output_type": "stream",
     "text": [
      "Your entered list : [11, 22, 33, 44, 55, 66, 77, 88]\n",
      "Sum of your list : 396\n",
      "Average of your list : 49.5\n"
     ]
    }
   ],
   "source": [
    "#Q9 Write a program that calculates the average of a list of numbers using a `for` loop.\n",
    "\n",
    "\n",
    "def print_sum_average(lst):\n",
    "    val=0\n",
    "    for i in range(n):\n",
    "        val=val+lst[i]\n",
    "    print(\"Sum of your list :\",val)\n",
    "    print(\"Average of your list :\",val/n)\n",
    "def inputlst(lst):\n",
    "    for i in range(0,n):\n",
    "        u=int(input())\n",
    "        lst.append(u)\n",
    "    print(\"Your entered list :\",lst)\n",
    "\n",
    "        \n",
    "        \n",
    "n = int(input(\"Enter number of elements : \"))  \n",
    "lst=[]\n",
    "inputlst(lst)\n",
    "print_sum_average(lst)"
   ]
  },
  {
   "cell_type": "markdown",
   "id": "237a0256-3b19-4466-8aa5-524d04fdd0f0",
   "metadata": {},
   "source": [
    "1)Firstly get the number of elements from the user and store it in the variable.\n",
    "\n",
    "2) Create a function inputlst and use a for loop to get the elements from the user and add them to the list\n",
    "\n",
    "3) Now create an another function printsum for adding the number input in the list \n",
    "\n",
    "4) Now Initialize a variable val with zero.\n",
    "\n",
    "5) Use a for loop to iterate from 0 to number of elements .\n",
    "\n",
    "6) Inside the loop, add the element of list to the val.At the end, print the value of the sum.\n",
    "\n",
    "70 After that also print  the average which is main aim of this program which is sum/n."
   ]
  },
  {
   "cell_type": "code",
   "execution_count": 14,
   "id": "bf37d54d-fe46-49f5-b74b-e9d634078857",
   "metadata": {},
   "outputs": [
    {
     "name": "stdin",
     "output_type": "stream",
     "text": [
      "Enter the number :  7\n"
     ]
    },
    {
     "name": "stdout",
     "output_type": "stream",
     "text": [
      "0 1 1 2 3 5 8 "
     ]
    }
   ],
   "source": [
    "#Q10 Develop a program that prints the first `n` Fibonacci numbers using a `for` loop.\n",
    "\n",
    "def fibonacci_numbers(num): \n",
    "    if num == 0: \n",
    "        return 0\n",
    "    elif num == 1: \n",
    "        return 1\n",
    "    else: \n",
    "        return fibonacci_numbers(num-2)+fibonacci_numbers(num-1) \n",
    "  \n",
    "  \n",
    "n = int(input(\"Enter the number : \"))  \n",
    "for i in range(0, n): \n",
    "    print(fibonacci_numbers(i), end=\" \") "
   ]
  },
  {
   "cell_type": "markdown",
   "id": "4e428556-9532-4c20-8e5f-17cf77b31f29",
   "metadata": {},
   "source": [
    "1)Firstly define a function fibonacci_numbers .\n",
    "\n",
    "2) Build a recursive function that takes integer N as a parameter.\n",
    "\n",
    "       If N = 0 fibonacci number will be 0.\n",
    "    \n",
    "       Elif if n = 1 Fibonacci number will be 1.\n",
    "        \n",
    "       Else return value for func(n-1) + func(n-2).\n",
    "\n",
    "3)Take a integer as user input and take a loop with range 0 to n\n",
    " \n",
    "4) Now in the loop call the function.\n"
   ]
  },
  {
   "cell_type": "code",
   "execution_count": null,
   "id": "b812adfe-63ea-4ac6-b3f3-38de298e5b0a",
   "metadata": {},
   "outputs": [],
   "source": [
    "#Intermediate Level:"
   ]
  },
  {
   "cell_type": "code",
   "execution_count": 5,
   "id": "75dc79f0-5a7d-4dac-861a-ed99df12177f",
   "metadata": {},
   "outputs": [
    {
     "name": "stdin",
     "output_type": "stream",
     "text": [
      "Enter number of elements :  7\n",
      " 2\n",
      " 5\n",
      " 2\n",
      " 3\n",
      " 4\n",
      " 5\n",
      " 7\n"
     ]
    },
    {
     "name": "stdout",
     "output_type": "stream",
     "text": [
      "Your entered list : [2, 5, 2, 3, 4, 5, 7]\n",
      "Is there any duplicate in your list : true\n"
     ]
    }
   ],
   "source": [
    "#Q11. Write a program to check if a given list contains any duplicates using a `for` loop\n",
    "\n",
    "\n",
    "def solution( lst):  \n",
    "        lst.sort()  \n",
    "        for i in range(1, len(lst)):  \n",
    "            for j in range(0, i):  \n",
    "                if lst[i] == lst[i-1]:  \n",
    "                    return 'true'  \n",
    "            return 'false'  \n",
    "def inputlst(lst):\n",
    "    for i in range(0,n):\n",
    "        u=int(input())\n",
    "        lst.append(u)\n",
    "    print(\"Your entered list :\",lst)\n",
    "\n",
    "        \n",
    "        \n",
    "n = int(input(\"Enter number of elements : \"))  \n",
    "lst=[]\n",
    "inputlst(lst) \n",
    "print(\"Is there any duplicate in your list :\",solution(lst))     "
   ]
  },
  {
   "cell_type": "markdown",
   "id": "aa2f9bbb-e075-4ae5-b751-e1acc82169c5",
   "metadata": {},
   "source": [
    "1)We have sorted the given list using the built-in sort() method which will place the duplicate values corresponding to each other if exist. \n",
    "\n",
    "2) Then we run first for loop to store the index value and second loop to compare the corresponding values.\n",
    "\n",
    "3)In the first iteration, the value of i is 1 and the inner loop will be executed (0, 1) times. The value of list[i] is 1 and the value of\n",
    "list[i-1] is 1.\n",
    " \n",
    "4)  The value of list[i] is 1 and the value of list[i-1] is 1.\n",
    "\n",
    "5) Hence there are duplicated elements so we have returned the 'true'else we will return 'False'.\n"
   ]
  },
  {
   "cell_type": "code",
   "execution_count": 5,
   "id": "a35ce3ab-2b1f-46f4-868f-9379144e65e9",
   "metadata": {},
   "outputs": [
    {
     "name": "stdin",
     "output_type": "stream",
     "text": [
      "Enter start value :  10\n",
      "Enter end value :  100\n"
     ]
    },
    {
     "name": "stdout",
     "output_type": "stream",
     "text": [
      "Prime numbers between 10 and 100 are :\n",
      " 11  13  17  19  23  29  31  37  41  43  47  53  59  61  67  71  73  79  83  89  97 "
     ]
    }
   ],
   "source": [
    "#Q 12. Create a program that prints the prime numbers in a given range using a `for` loop.\n",
    "\n",
    "\n",
    "\n",
    "def prime_finder(a,b):\n",
    "    for Numb in range (a, b):\n",
    "        cnt = 0\n",
    "        for a in range(2, (Numb//2 + 1)):\n",
    "            if(Numb % a == 0):\n",
    "                cnt = cnt + 1\n",
    "                break\n",
    "        if (cnt == 0 and Numb != 1):\n",
    "            print(\" %d\" %Numb, end = ' ')\n",
    "\n",
    "\n",
    "\n",
    "\n",
    "a = int(input(\"Enter start value : \"))\n",
    "b = int(input(\"Enter end value : \"))\n",
    "print(\"Prime numbers between\",a,\"and\",b,\"are :\")\n",
    "prime_finder(a,b)"
   ]
  },
  {
   "cell_type": "markdown",
   "id": "aad6a4fc-8468-48b1-9e8c-3c6670bb98ed",
   "metadata": {},
   "source": [
    "1) A prime number is a positive number N that is greater than 1. \n",
    "\n",
    "2) A prime number does not have any positive divisors other than one and the number itself.\n",
    "\n",
    "3) Few prime numbers include 2, 3, 5, 7, 11, and so on.\n",
    "\n",
    "4) The logic behind finding out whether or not a number is prime is to iterate that number from 2 to N/2 using a for loop and check if that number. \n",
    "\n",
    "5) If any number divides then it is not a prime number if it does, it is a prime number."
   ]
  },
  {
   "cell_type": "code",
   "execution_count": 7,
   "id": "0260b0dc-6456-4b05-be35-57d55f051b34",
   "metadata": {},
   "outputs": [
    {
     "name": "stdin",
     "output_type": "stream",
     "text": [
      "Enter your string :  I am the king of this universe\n"
     ]
    },
    {
     "name": "stdout",
     "output_type": "stream",
     "text": [
      "The original string is:  I am the king of this universe\n",
      "The count  of vowel in string is : 10\n"
     ]
    }
   ],
   "source": [
    "#Q13. Develop a program that counts the number of vowels in a string using a `for` loop.\n",
    "\n",
    "def count_vowel(str1):\n",
    "    count=0\n",
    "    vowels = 'aeiouAEIOU'\n",
    "    for char in str1 :\n",
    "        if char in vowels:\n",
    "            count+=1\n",
    "    return count\n",
    "    \n",
    "\n",
    "    \n",
    "str1 = str(input(\"Enter your string : \"))      \n",
    "print(\"The original string is: \",str1)  \n",
    "print(\"The count  of vowel in string is :\",count_vowel(str1))"
   ]
  },
  {
   "cell_type": "markdown",
   "id": "dd3deecf-489b-4224-8a52-6a54bea05f41",
   "metadata": {},
   "source": [
    "Step 1: Take a string from the user and store it in a variable.\n",
    "\n",
    "Step 2: Initialize a count variable to 0.\n",
    "\n",
    "Step 3: Use a for loop to traverse through the characters in the string.\n",
    "\n",
    "Step 4: Use an if statement to check if the character is a vowel or not and increment the count variable if it is a vowel.\n",
    "\n",
    "Step 5: The total number of vowels in the string should be printed.\n",
    "\n",
    "Step 6: Exit."
   ]
  },
  {
   "cell_type": "code",
   "execution_count": 4,
   "id": "c0074c44-a8fc-4ba4-a323-6fe8744fa261",
   "metadata": {},
   "outputs": [
    {
     "data": {
      "text/plain": [
       "[66, 29, 323]"
      ]
     },
     "execution_count": 4,
     "metadata": {},
     "output_type": "execute_result"
    }
   ],
   "source": [
    "#Q14. Write a program to find the maximum element in a 2D list using a nested `for` loop.\n",
    "\n",
    "\n",
    "def two_d_list_max(a):\n",
    "    lis = []\n",
    "    for p in a:\n",
    "        lis.append(max(p))\n",
    "    return lis\n",
    "\n",
    "\n",
    "        \n",
    "        \n",
    "a= [[10, 13, 45, 66, 44], [10, 8, 7, 23,29],[323,321,231,132,312]]\n",
    "two_d_list_max(a)"
   ]
  },
  {
   "cell_type": "markdown",
   "id": "9351b754-ae79-4207-8562-7e6294d88f9c",
   "metadata": {},
   "source": [
    "1) Intialize a variable and store a 2D list in that .\n",
    "\n",
    "2) Call the function two_d_list_max with the 2 D list\n",
    "\n",
    "3) In the function firstlly we will create empty list .\n",
    "\n",
    "4) Now take a for loop for selecting each list \n",
    "\n",
    "5) After that find a max element in every list by the help of max function and at last return lis."
   ]
  },
  {
   "cell_type": "code",
   "execution_count": 6,
   "id": "c22a2eb6-b36b-49b5-88f4-e56601753a89",
   "metadata": {},
   "outputs": [
    {
     "name": "stdin",
     "output_type": "stream",
     "text": [
      "Enter number of elements :  7\n",
      " 11\n",
      " 22\n",
      " 33\n",
      " 44\n",
      " 56\n",
      " 33\n",
      " 56\n"
     ]
    },
    {
     "name": "stdout",
     "output_type": "stream",
     "text": [
      "Your entered list : [11, 22, 33, 44, 56, 33, 56]\n"
     ]
    },
    {
     "name": "stdin",
     "output_type": "stream",
     "text": [
      "Enter the specific  element :  56\n"
     ]
    },
    {
     "name": "stdout",
     "output_type": "stream",
     "text": [
      "After the removal of the element your list : [11, 22, 33, 44, 33]\n"
     ]
    }
   ],
   "source": [
    "#Q15. Create a program that removes all occurrences of a specific element from a list using a `for` loop.\n",
    "\n",
    "\n",
    "def specific_remover(lst,specific_element):\n",
    "    for item in lst:\n",
    "        if(item==specific_element):\n",
    "            lst.remove(specific_element)\n",
    "    print(\"After the removal of the element your list :\",lst)\n",
    "\n",
    "\n",
    "def inputlst(lst):\n",
    "    for i in range(0,n):\n",
    "        u=int(input())\n",
    "        lst.append(u)\n",
    "    print(\"Your entered list :\",lst)\n",
    "\n",
    "        \n",
    "        \n",
    "n = int(input(\"Enter number of elements : \"))  \n",
    "lst=[]\n",
    "inputlst(lst)\n",
    "specific_element = int(input(\"Enter the specific  element : \")) \n",
    "specific_remover(lst,specific_element)"
   ]
  },
  {
   "cell_type": "markdown",
   "id": "343a3bd8-b820-48b0-b0ac-2e52d741f7be",
   "metadata": {},
   "source": [
    "1) Take a list as an input by  user .\n",
    "\n",
    "2) Now take specific element as input and store in a variable.\n",
    "\n",
    "3) Iterate through each item in the list, using Python For Loop\n",
    "\n",
    "4)  Now when we find a match for the item to be removed, we will call remove() function on the list.\n",
    "\n",
    "5) End of the for loop.\n",
    "\n",
    "6) Print the remaine list after the removal of that specific element.\n",
    "\n",
    "7) End of the program."
   ]
  },
  {
   "cell_type": "code",
   "execution_count": 3,
   "id": "dc15dcc5-37b1-4e23-a91c-a7edf1ad2d18",
   "metadata": {},
   "outputs": [
    {
     "name": "stdin",
     "output_type": "stream",
     "text": [
      "Enertyour min limit : 1\n",
      "Enertyour max limit : 5\n"
     ]
    },
    {
     "name": "stdout",
     "output_type": "stream",
     "text": [
      "1 x 1 = 1 \n",
      "\n",
      "1 x 2 = 2 \n",
      "\n",
      "1 x 3 = 3 \n",
      "\n",
      "1 x 4 = 4 \n",
      "\n",
      "1 x 5 = 5 \n",
      "\n",
      "1 x 6 = 6 \n",
      "\n",
      "1 x 7 = 7 \n",
      "\n",
      "1 x 8 = 8 \n",
      "\n",
      "1 x 9 = 9 \n",
      "\n",
      "1 x 10 = 10 \n",
      "\n",
      "\n",
      "\n",
      "2 x 1 = 2 \n",
      "\n",
      "2 x 2 = 4 \n",
      "\n",
      "2 x 3 = 6 \n",
      "\n",
      "2 x 4 = 8 \n",
      "\n",
      "2 x 5 = 10 \n",
      "\n",
      "2 x 6 = 12 \n",
      "\n",
      "2 x 7 = 14 \n",
      "\n",
      "2 x 8 = 16 \n",
      "\n",
      "2 x 9 = 18 \n",
      "\n",
      "2 x 10 = 20 \n",
      "\n",
      "\n",
      "\n",
      "3 x 1 = 3 \n",
      "\n",
      "3 x 2 = 6 \n",
      "\n",
      "3 x 3 = 9 \n",
      "\n",
      "3 x 4 = 12 \n",
      "\n",
      "3 x 5 = 15 \n",
      "\n",
      "3 x 6 = 18 \n",
      "\n",
      "3 x 7 = 21 \n",
      "\n",
      "3 x 8 = 24 \n",
      "\n",
      "3 x 9 = 27 \n",
      "\n",
      "3 x 10 = 30 \n",
      "\n",
      "\n",
      "\n",
      "4 x 1 = 4 \n",
      "\n",
      "4 x 2 = 8 \n",
      "\n",
      "4 x 3 = 12 \n",
      "\n",
      "4 x 4 = 16 \n",
      "\n",
      "4 x 5 = 20 \n",
      "\n",
      "4 x 6 = 24 \n",
      "\n",
      "4 x 7 = 28 \n",
      "\n",
      "4 x 8 = 32 \n",
      "\n",
      "4 x 9 = 36 \n",
      "\n",
      "4 x 10 = 40 \n",
      "\n",
      "\n",
      "\n",
      "5 x 1 = 5 \n",
      "\n",
      "5 x 2 = 10 \n",
      "\n",
      "5 x 3 = 15 \n",
      "\n",
      "5 x 4 = 20 \n",
      "\n",
      "5 x 5 = 25 \n",
      "\n",
      "5 x 6 = 30 \n",
      "\n",
      "5 x 7 = 35 \n",
      "\n",
      "5 x 8 = 40 \n",
      "\n",
      "5 x 9 = 45 \n",
      "\n",
      "5 x 10 = 50 \n",
      "\n",
      "\n",
      "\n"
     ]
    }
   ],
   "source": [
    "#Q16. Develop a program that generates a multiplication table for numbers from 1 to 5 using a nested `for` loop.\n",
    "\n",
    "\n",
    "def limit_table(min_number,max_number):\n",
    "    for i in range (min_number,max_number+1):\n",
    "        for j in range (1,11):\n",
    "            print(i, \"x\", j, \"=\", i * j, \"\\n\")\n",
    "        print(\"\\n\")\n",
    "\n",
    "\n",
    "\n",
    "\n",
    "\n",
    "min_number =int(input(\"Enertyour min limit :\"))\n",
    "max_number =int(input(\"Enertyour max limit :\"))\n",
    "limit_table(min_number,max_number)"
   ]
  },
  {
   "cell_type": "markdown",
   "id": "74c1728b-edd2-42fb-9dca-b78cac96d2e3",
   "metadata": {},
   "source": [
    "1) Intialize and Set the value of the variable max_number and min_number by taking a input by user \n",
    "\n",
    "2) Start an outer for loop that iterates through numbers from min_number to the value of max_number+1.\n",
    "\n",
    "3) Start an inner for loop that iterates through numbers from 1 to 10 for each value of i.\n",
    "\n",
    "4)  Print the multiplication expression in the format “i x j = i * j”,\n",
    "\n",
    "5) End of the inner for loop.\n",
    "\n",
    "6) Print a blank line to separate the multiplication tables for each i value.\n",
    "\n",
    "7) End of the outer for loop."
   ]
  },
  {
   "cell_type": "code",
   "execution_count": 8,
   "id": "093f9533-2a7a-420d-8065-c83484914fbf",
   "metadata": {},
   "outputs": [
    {
     "name": "stdin",
     "output_type": "stream",
     "text": [
      "Enter number of entries :  5\n",
      " 10\n",
      " 20\n",
      " 30\n",
      " 40\n",
      " 50\n"
     ]
    },
    {
     "name": "stdout",
     "output_type": "stream",
     "text": [
      "Your entered list : [10, 20, 30, 40, 50]\n",
      "Enties in the form of celcius : [50.0, 68.0, 86.0, 104.0, 122.0]\n"
     ]
    }
   ],
   "source": [
    "#Q17. Write a program that converts a list of Fahrenheit temperatures to Celsius using a `for` loop.\n",
    "\n",
    "\n",
    "\n",
    "def ftoc_convert(lst):\n",
    "    lst2=[]\n",
    "    for num in lst:\n",
    "        c=(num*1.8)+32\n",
    "        lst2.append(c)\n",
    "    return lst2\n",
    "\n",
    "def inputlst(lst):\n",
    "    for i in range(0,n):\n",
    "        u=int(input())\n",
    "        lst.append(u)\n",
    "    print(\"Your entered list :\",lst)\n",
    "\n",
    "        \n",
    "        \n",
    "n = int(input(\"Enter number of entries : \"))  \n",
    "lst=[]\n",
    "inputlst(lst)\n",
    "print(\"Enties in the form of celcius :\",ftoc_convert(lst))"
   ]
  },
  {
   "cell_type": "markdown",
   "id": "6f382db4-0893-4d56-aa2c-05a026b38311",
   "metadata": {},
   "source": [
    "1) Take a list as an input by  user .\n",
    "\n",
    "2) Now create a new function ftoc_convert for converting fahrenheit to celcius.\n",
    "\n",
    "3) Create an empty  lst2 to store the data in celcius.\n",
    "\n",
    "4)  Iterate through each item in the list, using Python For Loop\n",
    "\n",
    "5) Now create a variable c and store the celcius value in that by using the formula.\n",
    "\n",
    "6) Append the variable c in str2.\n",
    "\n",
    "7) End of the loop.\n",
    "\n",
    "8) Return the value of lst2\n",
    "\n",
    "9) End of the program."
   ]
  },
  {
   "cell_type": "code",
   "execution_count": 1,
   "id": "21422069-ec98-4651-9852-7479a5b1c28b",
   "metadata": {},
   "outputs": [
    {
     "name": "stdin",
     "output_type": "stream",
     "text": [
      "Enter number of entries :  5\n",
      " 3\n",
      " 6\n",
      " 9\n",
      " 12\n",
      " 15\n"
     ]
    },
    {
     "name": "stdout",
     "output_type": "stream",
     "text": [
      "Your entered list : [3, 6, 9, 12, 15]\n"
     ]
    },
    {
     "name": "stdin",
     "output_type": "stream",
     "text": [
      "Enter number of entries :  6\n",
      " 2\n",
      " 4\n",
      " 6\n",
      " 8\n",
      " 10\n",
      " 12\n"
     ]
    },
    {
     "name": "stdout",
     "output_type": "stream",
     "text": [
      "Your entered list : [2, 4, 6, 8, 10, 12]\n"
     ]
    },
    {
     "data": {
      "text/plain": [
       "[6, 12]"
      ]
     },
     "execution_count": 1,
     "metadata": {},
     "output_type": "execute_result"
    }
   ],
   "source": [
    "#Q18. Create a program to print the common elements from two lists using a `for` loop.\n",
    "\n",
    "\n",
    "def inputlst(lst,n):\n",
    "    for i in range(0,n):\n",
    "        u=int(input())\n",
    "        lst.append(u)\n",
    "    print(\"Your entered list :\",lst)\n",
    "def common_elements(lst, lst2):\n",
    "    result = []\n",
    "    for element in lst:\n",
    "        if element in lst2:\n",
    "            result.append(element)\n",
    "    return result\n",
    "        \n",
    "        \n",
    "n =int(input(\"Enter number of entries : \"))  \n",
    "lst=[]\n",
    "lst2=[]\n",
    "inputlst(lst,n)\n",
    "r =int(input(\"Enter number of entries : \"))  \n",
    "inputlst(lst2,r)\n",
    "common_elements(lst, lst2)"
   ]
  },
  {
   "cell_type": "markdown",
   "id": "3a1dce71-33bf-411b-b585-4e9e4987951c",
   "metadata": {},
   "source": [
    "1)  Take the input from the user for the length of the list.\n",
    "\n",
    "2) Take the input from the user for the element of the list.\n",
    "\n",
    "3) Now call the function common_element with both the list\n",
    "\n",
    "4) Create an empty list result .\n",
    "\n",
    "5) Now we will run the loop t0 access all the elemnt of lst one by one.\n",
    "\n",
    "6) Take a Conditional statement if lst element in lst2 then append in the empty list  \n",
    "\n",
    "7) Return the value of result &End of the loop.\n",
    "\n",
    "8)End of the program.\n"
   ]
  },
  {
   "cell_type": "code",
   "execution_count": 2,
   "id": "4f908985-2155-4c0c-936e-acbf617596bc",
   "metadata": {},
   "outputs": [
    {
     "name": "stdin",
     "output_type": "stream",
     "text": [
      "Please Enter the Total Number of Rows  :  5\n",
      "Please Enter any Character  :  &\n"
     ]
    },
    {
     "name": "stdout",
     "output_type": "stream",
     "text": [
      "Right Angled Triangle Star Pattern\n",
      "&  \n",
      "&  &  \n",
      "&  &  &  \n",
      "&  &  &  &  \n",
      "&  &  &  &  &  \n"
     ]
    }
   ],
   "source": [
    "#Q19. Develop a program that prints the pattern of right-angled triangles using a `for` loop. Use ‘*’ to draw the pattern\n",
    "\n",
    "\n",
    "rows = int(input(\"Please Enter the Total Number of Rows  : \"))\n",
    "ch = input(\"Please Enter any Character  : \")\n",
    "\n",
    "print(\"Right Angled Triangle Star Pattern\") \n",
    "for i in range(1, rows + 1):\n",
    "    for j in range(1, i + 1):\n",
    "        print(ch, end = '  ')\n",
    "    print()\n",
    "        "
   ]
  },
  {
   "cell_type": "markdown",
   "id": "310081b7-21b9-430b-b980-11f7469d8e7c",
   "metadata": {},
   "source": [
    "1)  Take the input from the user for the length of the triangle.\n",
    "\n",
    "2) Take the input from the user for the charachter of the triangle.\n",
    "\n",
    "\n",
    "3) Now take 2 loop and print the pattern.\n"
   ]
  },
  {
   "cell_type": "code",
   "execution_count": 6,
   "id": "6951ecc8-ab4e-495b-87db-cfe525fd2810",
   "metadata": {},
   "outputs": [
    {
     "name": "stdin",
     "output_type": "stream",
     "text": [
      " Enter the first number:  24\n",
      " Enter the second number:  36\n"
     ]
    },
    {
     "name": "stdout",
     "output_type": "stream",
     "text": [
      "GCD of two number is: \n",
      "12\n"
     ]
    }
   ],
   "source": [
    "#Q20. Write a program to find the greatest common divisor (GCD) of two numbers using a `for` loop.\n",
    "\n",
    "\n",
    "\n",
    "\n",
    "def GCD_Loop( a, b):  \n",
    "    if a > b:  # define the if condition  \n",
    "        temp = b  \n",
    "    else:  \n",
    "        temp = a  \n",
    "    for i in range(1, temp + 1):  \n",
    "        if (( a % i == 0) and (b % i == 0 )):  \n",
    "            gcd = i  \n",
    "    return gcd  \n",
    "x = int(input (\" Enter the first number: \") ) # take first no.   \n",
    "y =int (input (\" Enter the second number: \")) # take second no.   \n",
    "num = GCD_Loop(x, y) # call the gcd_fun() to find the result  \n",
    "print(\"GCD of two number is: \")  \n",
    "print(num) # call num  "
   ]
  },
  {
   "cell_type": "raw",
   "id": "ce79d9ac-df71-4147-890b-5d27fd9bb64e",
   "metadata": {},
   "source": [
    "1)  Take the input from the user for finding the GCD.\n",
    "\n",
    "2) Also call the function GCD_Loopand store the value in a variable.\n",
    "\n",
    "3) Create a variable temp and conditional statement to fing the largest.\n",
    "\n",
    "4)  Iterate through each number wether both are diveisble by them, using Python For Loop\n",
    "\n",
    "5) Now we will run the loop till the smalest number\n",
    "\n",
    "6) Conditional statement if yes it means gcd=i \n",
    "\n",
    "7) End of the loop.\n",
    "\n",
    "8) Return the value of gcd\n",
    "\n",
    "9) End of the program."
   ]
  },
  {
   "cell_type": "code",
   "execution_count": null,
   "id": "e4870814-05f8-4625-bee9-b1cc388332eb",
   "metadata": {},
   "outputs": [],
   "source": [
    "#Advanced Level:"
   ]
  },
  {
   "cell_type": "code",
   "execution_count": 2,
   "id": "2231a9f6-f823-4491-b22e-2a24cf93c731",
   "metadata": {},
   "outputs": [
    {
     "name": "stdin",
     "output_type": "stream",
     "text": [
      "Enter number of entries :  6\n",
      "Enter the list items separated by space  12 23 34 45 56 67\n"
     ]
    },
    {
     "name": "stdout",
     "output_type": "stream",
     "text": [
      "Your entered list : [12, 23, 34, 45, 56, 67]\n",
      "List Integer Summation : [3, 5, 7, 9, 11, 13]\n"
     ]
    }
   ],
   "source": [
    "#21. Create a program that calculates the sum of the digits of numbers in a list using a list comprehension\n",
    "\n",
    "\n",
    "\n",
    "    \n",
    "def digi_sum(lst):\n",
    "    t=0\n",
    "    res =list(map(lambda ele: sum(int(sub) for sub in str(ele)), lst)) \n",
    "    print (\"List Integer Summation : \" + str(res))\n",
    "\n",
    "\n",
    "\n",
    "n =int(input(\"Enter number of entries : \"))  \n",
    "lst=[]\n",
    "lst=list(int(num) for num in input(\"Enter the list items separated by space \").strip().split())[:n]\n",
    "print(\"Your entered list :\",lst)\n",
    "digi_sum(lst)"
   ]
  },
  {
   "cell_type": "markdown",
   "id": "31eb0e55-dc36-4da0-a5c6-5ca8074105ab",
   "metadata": {},
   "source": [
    "1). Take a variable n and take user input for the number of element in the list .\n",
    "\n",
    "2) Define a empty list and take user input by using list comprehension , strip and split.\n",
    "\n",
    "3). Now define a function digi sum for the sum of digits Using sum() + list comprehension .\n",
    "\n",
    "4). The sum() is used to compute summation and list comprehension is used to compute iterations.\n",
    "\n",
    "5). At last, Print the list contains the sum of digits .\n"
   ]
  },
  {
   "cell_type": "code",
   "execution_count": 1,
   "id": "ec81cac3-72fc-4ae6-86de-fc9a31439106",
   "metadata": {},
   "outputs": [
    {
     "name": "stdin",
     "output_type": "stream",
     "text": [
      "Please input the number :  35\n"
     ]
    },
    {
     "name": "stdout",
     "output_type": "stream",
     "text": [
      "The prime factors of the given number is : [1, 5, 7]\n",
      "[1, 2, 3, 5, 7, 11, 13, 17, 19, 23, 29, 31]\n"
     ]
    }
   ],
   "source": [
    "#22. Write a program to find the prime factors of a given number using a `for` loop and list comprehension.\n",
    "\n",
    "\n",
    "def prime_factor_finder(value):\n",
    "    prime = [x for x in range(1, value) if all(x % y != 0 for y in range(2, x))]\n",
    "    prime_factor=[y for y in prime if value%y==0]\n",
    "    print(\"The prime factors of the given number is :\",prime_factor)\n",
    "\n",
    "    \n",
    "    \n",
    "value = int(input(\"Please input the number : \"))\n",
    "prime_factor_finder(value)"
   ]
  },
  {
   "cell_type": "markdown",
   "id": "99c7150a-9029-4cee-81b4-a997b6edf995",
   "metadata": {},
   "source": [
    "1). Create a variable to take input from user to find prime factor .\n",
    "\n",
    "2). Define a function prime factor finder which take value as argument.\n",
    "\n",
    "3). Firstly create prime to find all the prime till the value .\n",
    "\n",
    "4). Now create prime factor that how much prime numbers are factor of the value.\n",
    "\n",
    "5). At last , print prime_factor and the goal would be achieved."
   ]
  },
  {
   "cell_type": "code",
   "execution_count": 1,
   "id": "881b54d7-ec95-4be1-a475-395ae73921ba",
   "metadata": {},
   "outputs": [
    {
     "name": "stdin",
     "output_type": "stream",
     "text": [
      "Enter number of entries :  8\n",
      "Enter the list items separated by space  11 22 33 11 44 55 22 66\n"
     ]
    },
    {
     "name": "stdout",
     "output_type": "stream",
     "text": [
      "[11, 22, 33, 44, 55, 66]\n"
     ]
    }
   ],
   "source": [
    "#Q23. Develop a program that extracts unique elements from a list and stores them in a new list using a list comprehension.\n",
    "\n",
    "\n",
    "\n",
    "\n",
    "n =int(input(\"Enter number of entries : \"))  \n",
    "my_list=[]\n",
    "my_list=list(int(num) for num in input(\"Enter the list items separated by space \").strip().split())[:n]\n",
    "unique_list = [] \n",
    "[unique_list.append(i) for i in my_list if i not in unique_list]\n",
    "print(unique_list)"
   ]
  },
  {
   "cell_type": "markdown",
   "id": "bd933dd4-5791-41f2-bc2f-6fea20af99b6",
   "metadata": {},
   "source": [
    "1). Take a variable n and take user input for the number of element in the list .\n",
    "\n",
    "2) Define a empty list and take user input by using list comprehension , strip and split.\n",
    "\n",
    "3). Take an empty list and store unique item in the list using comprehension.\n",
    "\n",
    "4). At last print the unique list and the goal would be achieved."
   ]
  },
  {
   "cell_type": "code",
   "execution_count": 19,
   "id": "da9fa83f-8d2b-4b6d-a217-3a6732adb102",
   "metadata": {},
   "outputs": [
    {
     "name": "stdin",
     "output_type": "stream",
     "text": [
      "Enter the size of the list  7\n"
     ]
    },
    {
     "name": "stdout",
     "output_type": "stream",
     "text": [
      "\n",
      "\n"
     ]
    },
    {
     "name": "stdin",
     "output_type": "stream",
     "text": [
      "Enter the list items separated by space  1 2 3 4 3 2 1 \n"
     ]
    },
    {
     "name": "stdout",
     "output_type": "stream",
     "text": [
      "!!!!!Palindrome List !!!!!!\n"
     ]
    }
   ],
   "source": [
    "#Q24. Create a program that generates a list of all palindromic numbers up to a specified limit using a list comprehension.\n",
    "\n",
    "\n",
    "n = int(input(\"Enter the size of the list \"))\n",
    "print(\"\\n\")\n",
    "lst=list(int(num) for num in input(\"Enter the list items separated by space \").strip().split())[:n]\n",
    "lst1=lst[::-1]\n",
    "lst2=[]\n",
    "lst2=[lst[x] for x in range (n) if lst[x]==lst1[x]]\n",
    "if n==len(lst2):\n",
    "    print(\"!!!!!Palindrome List !!!!!!\")\n",
    "else:\n",
    "    print(\"!!!! Not a Palindrome List !!!!!!\")"
   ]
  },
  {
   "cell_type": "markdown",
   "id": "df1df109-a656-42a6-9929-2dd2e4fe92b5",
   "metadata": {},
   "source": [
    "1). Take a variable n and take user input for the number of element in the list .\n",
    "\n",
    "2) Define a empty list and take user input by using list comprehension , strip and split.\n",
    "\n",
    "3). Take an empty list and store unique item in the list using comprehension.\n"
   ]
  },
  {
   "cell_type": "code",
   "execution_count": 2,
   "id": "de169c6f-bf0f-47f4-928a-3720f4a10146",
   "metadata": {},
   "outputs": [
    {
     "name": "stdout",
     "output_type": "stream",
     "text": [
      "[1, 2, 3, 4, 5, 6, 7, 8, 9]\n"
     ]
    }
   ],
   "source": [
    "#Q25. Write a program to flatten a nested list using list comprehension\n",
    "\n",
    "\n",
    "my_list = [[1,2], [3,4,5], [6,7,8,9]]\n",
    "\n",
    "flat_list = [num for sublist in my_list for num in sublist]\n",
    "print(flat_list)"
   ]
  },
  {
   "cell_type": "markdown",
   "id": "86164e29-ab0b-455e-b06b-3b4d74f3ab81",
   "metadata": {},
   "source": [
    "This is one of the simplest pythonic ways of flattening a list.\n",
    "\n",
    "Using list comprehension access the sublist from my_list, then access each element of the sublist.\n",
    "Each element num is stored in flat_list."
   ]
  },
  {
   "cell_type": "code",
   "execution_count": 22,
   "id": "d86ec270-f62d-4c1f-9019-d64ee6664c61",
   "metadata": {},
   "outputs": [
    {
     "name": "stdin",
     "output_type": "stream",
     "text": [
      "Enter the size of the list  8\n"
     ]
    },
    {
     "name": "stdout",
     "output_type": "stream",
     "text": [
      "\n",
      "\n"
     ]
    },
    {
     "name": "stdin",
     "output_type": "stream",
     "text": [
      "Enter the list items separated by space  2 3 4 5 6 7 8 9\n"
     ]
    },
    {
     "name": "stdout",
     "output_type": "stream",
     "text": [
      "SUM OF EVEN:  20\n",
      "SUM OF ODD:  24\n"
     ]
    }
   ],
   "source": [
    "#Q26. Develop a program that computes the sum of even and odd numbers in a list separately using listcomprehension.\n",
    "\n",
    "\n",
    "\n",
    "n = int(input(\"Enter the size of the list \"))\n",
    "print(\"\\n\")\n",
    "lst=list(int(num) for num in input(\"Enter the list items separated by space \").strip().split())[:n]\n",
    "mylist=[lst[x]for x in range (n) if lst[x]%2==0]\n",
    "mylist1=[lst[x]for x in range (n) if lst[x]%2==1]\n",
    "print(\"SUM OF EVEN: \", sum([i for i in mylist]))\n",
    "print(\"SUM OF ODD: \", sum([i for i in mylist1]))"
   ]
  },
  {
   "cell_type": "markdown",
   "id": "e49753ea-3660-494d-ae36-980019a28346",
   "metadata": {},
   "source": [
    "Take variable to take input from the user that how many element he wants in the list.\n",
    "\n",
    "After that take an another variable and store the list according to the number of element.\n",
    "\n",
    "Now using list comprehension seperaate even & odd numbers from the list.\n",
    "\n",
    "Lastly print the sum of the both new list which contains odd & even."
   ]
  },
  {
   "cell_type": "code",
   "execution_count": 4,
   "id": "9648f0cb-dd87-45ae-9f41-77a5024c51d8",
   "metadata": {},
   "outputs": [
    {
     "name": "stdin",
     "output_type": "stream",
     "text": [
      "Please enter the number :  11\n"
     ]
    },
    {
     "name": "stdout",
     "output_type": "stream",
     "text": [
      "[1, 9, 25, 49, 81]\n"
     ]
    }
   ],
   "source": [
    "#Q27. Create a program that generates a list of squares of odd numbers between 1 and 10 using list comprehension\n",
    "\n",
    "\n",
    "n=int(input(\"Please enter the number : \"))\n",
    "lst=[x*x for x in range (11) if x%2==1]\n",
    "print(lst)"
   ]
  },
  {
   "cell_type": "markdown",
   "id": "c18f01d8-3d6f-445b-8eb1-b6f0d05c6c63",
   "metadata": {},
   "source": [
    "Take variable and by using list comprehension store all odd number square  till 10 in the same.\n",
    "\n",
    "Finaly print the list which contains square of odd number \n",
    "\n",
    "Program closeed"
   ]
  },
  {
   "cell_type": "code",
   "execution_count": 1,
   "id": "90bfb774-199f-4193-a1c9-400e522c77b8",
   "metadata": {},
   "outputs": [
    {
     "name": "stdout",
     "output_type": "stream",
     "text": [
      "{1: 'python', 2: 'c', 3: 'c++'}\n"
     ]
    }
   ],
   "source": [
    "#Q28. Write a program that combines two lists into a dictionary using list comprehension\n",
    "\n",
    "\n",
    "\n",
    "index = [1, 2, 3]\n",
    "languages = ['python', 'c', 'c++']\n",
    "\n",
    "dictionary = {k: v for k, v in zip(index, languages)}\n",
    "print(dictionary)"
   ]
  },
  {
   "cell_type": "markdown",
   "id": "adf88f3b-7106-474b-9e7f-e169e869f0a1",
   "metadata": {},
   "source": [
    "Take two list and initialige it variables\n",
    "\n",
    "Take another variable and store the dictionary that is combined from two lists using list comprehension\n",
    "\n",
    "Finaly print dictionary and program ends"
   ]
  },
  {
   "cell_type": "code",
   "execution_count": 2,
   "id": "4f50209d-bae3-4c26-bb33-f388d587be8c",
   "metadata": {},
   "outputs": [
    {
     "name": "stdin",
     "output_type": "stream",
     "text": [
      "Enter your String to check vowel  :  mesopotamia\n"
     ]
    },
    {
     "name": "stdout",
     "output_type": "stream",
     "text": [
      "['e', 'o', 'o', 'a', 'i', 'a']\n"
     ]
    }
   ],
   "source": [
    "#Q29. Develop a program that extracts the vowels from a string and stores them in a list using list comprehension.\n",
    "\n",
    "\n",
    "\n",
    "\n",
    "strq=str(input(\"Enter your String to check vowel  : \"))\n",
    "vowel=\"AEIOUaeiou\"\n",
    "lst=[x for x in strq if x in vowel]\n",
    "print(lst)"
   ]
  },
  {
   "cell_type": "markdown",
   "id": "745baf7a-eaee-4eae-9a4e-a1519c4b2305",
   "metadata": {},
   "source": [
    "Initalize a variable to store the string taken as input from user\n",
    "\n",
    "Then take a variable and store all the vowels in both case\n",
    "\n",
    "Now take a variable and store the vowels using list comprehension.\n",
    "\n",
    "Finaly print the list and program ends"
   ]
  },
  {
   "cell_type": "code",
   "execution_count": 3,
   "id": "844a62e1-7a45-463b-ad6c-5cb773196ece",
   "metadata": {},
   "outputs": [
    {
     "name": "stdout",
     "output_type": "stream",
     "text": [
      "['1234', '56789', '1011121314']\n"
     ]
    }
   ],
   "source": [
    "#30. Create a program that removes all non-numeric characters from a list of strings using list comprehension.\n",
    "\n",
    "\n",
    "import re\n",
    "\n",
    "def remove_non_numeric(list1):\n",
    "    list2 = [re.sub(r\"[^\\d]\", \"\", x) for x in list1]\n",
    "    return list2\n",
    "\n",
    "list1 = ['1a2b3c4d', '5e6f7g8h9i', '10j11k12l13m14n']\n",
    "print(remove_non_numeric(list1))"
   ]
  },
  {
   "cell_type": "markdown",
   "id": "9f6d0b89-0f5f-41d5-a02f-b5dcc17fe9ed",
   "metadata": {},
   "source": [
    "Create function remove_non_numeric and before that import re\n",
    "\n",
    "In the function take empty list and store all the numeric term in the list using list comprehension.\n",
    "\n",
    "At the last of function return the list in which numbers are stored\n",
    "\n",
    "Now in drivers code intialize a list and call the function\n",
    "\n",
    "Program end "
   ]
  },
  {
   "cell_type": "code",
   "execution_count": null,
   "id": "483f148a-5e78-46b7-a888-533526bd4d56",
   "metadata": {},
   "outputs": [],
   "source": [
    "#Challenge Level:"
   ]
  },
  {
   "cell_type": "code",
   "execution_count": 2,
   "id": "523f96e0-bc6d-481b-a8cf-9d5213a403b6",
   "metadata": {},
   "outputs": [
    {
     "name": "stdin",
     "output_type": "stream",
     "text": [
      " 100\n"
     ]
    },
    {
     "data": {
      "text/plain": [
       "[2,\n",
       " 3,\n",
       " 5,\n",
       " 7,\n",
       " 11,\n",
       " 13,\n",
       " 17,\n",
       " 19,\n",
       " 23,\n",
       " 29,\n",
       " 31,\n",
       " 37,\n",
       " 41,\n",
       " 43,\n",
       " 47,\n",
       " 53,\n",
       " 59,\n",
       " 61,\n",
       " 67,\n",
       " 71,\n",
       " 73,\n",
       " 79,\n",
       " 83,\n",
       " 89,\n",
       " 97]"
      ]
     },
     "execution_count": 2,
     "metadata": {},
     "output_type": "execute_result"
    }
   ],
   "source": [
    "#31. Write a program to generate a list of prime numbers using the Sieve of Eratosthenes algorithm and listcomprehension.\n",
    "\n",
    "\n",
    "def SieveOfEratosthenes(num):\n",
    "    prime = [True for i in range(num+1)]\n",
    "\n",
    "    p = 2\n",
    "    while (p * p <= num):\n",
    " \n",
    "        if (prime[p] == True):\n",
    " \n",
    "            \n",
    "            for i in range(p * p, num+1, p):\n",
    "                prime[i] = False\n",
    "        p += 1\n",
    " \n",
    "   \n",
    "    soe=[p for p in range(2, num+1)if prime[p]]\n",
    "    return soe\n",
    "\n",
    "\n",
    "\n",
    "n=int(input())\n",
    "SieveOfEratosthenes(n)"
   ]
  },
  {
   "cell_type": "markdown",
   "id": "f89f7446-b8a7-4fb8-b511-cce3aa3c3d5a",
   "metadata": {},
   "source": [
    "Sieve of Eratosthenes is a method for finding all primes up to (and possibly including) a given natural.\n",
    "\n",
    "This method works well when is relatively small, allowing us to determine whether any natural number less than or equal to is prime or composite. \n",
    "\n",
    "Firstly define a function SieveOfEratosthenes  with an argument num\n",
    "\n",
    "After that declaare the a prime and store True for i in range(num+1) and take variable p as 2.\n",
    "\n",
    "Now if prime[p] is true then with help of for loop change some to false\n",
    "\n",
    "Finaly take a variable soe and store the prime number using list comprehension and for loop.\n",
    "\n",
    "In driver code take input by user and call the function .\n",
    "\n",
    "Program ends."
   ]
  },
  {
   "cell_type": "code",
   "execution_count": 1,
   "id": "0525a4d9-79f6-492f-9693-3f869f342143",
   "metadata": {},
   "outputs": [
    {
     "name": "stdin",
     "output_type": "stream",
     "text": [
      "Enter the value of n:  10\n",
      "Enter the value of n:  50\n"
     ]
    },
    {
     "name": "stdout",
     "output_type": "stream",
     "text": [
      "[(10, 24, 26), (12, 16, 20), (12, 35, 37), (14, 48, 50), (15, 20, 25), (15, 36, 39), (16, 30, 34), (18, 24, 30), (20, 21, 29), (21, 28, 35), (24, 32, 40), (27, 36, 45), (30, 40, 50)]\n"
     ]
    }
   ],
   "source": [
    "#Q32. Create a program that generates a list of all Pythagorean triplets up to a specified limit using list comprehension.\n",
    "\n",
    "\n",
    "\n",
    "m = int(input('Enter the value of start: '))\n",
    "n = int(input('Enter the value of end: '))\n",
    "print([(a, b, c) for a in range(m, n + 1) for b in range(a, n + 1)\n",
    "       for c in range(b, n + 1) if a**2 + b**2 == c**2])"
   ]
  },
  {
   "cell_type": "markdown",
   "id": "f22439a9-1bbe-4d6a-b46e-0205921c660b",
   "metadata": {},
   "source": [
    "Take 2 variable to take input by the user for start and end point .\n",
    "\n",
    "Now with the help list comprehension and for loop find the triplet avail in the range of starting and end point given by the user.\n",
    "\n",
    "Print the possible triplet in the range as mentioned by the user\n",
    "\n",
    "Program ends."
   ]
  },
  {
   "cell_type": "code",
   "execution_count": 1,
   "id": "89340e72-ebc5-4650-9768-8fe96969a856",
   "metadata": {},
   "outputs": [
    {
     "name": "stdout",
     "output_type": "stream",
     "text": [
      "[('b', 1), ('b', 4), ('b', 9), ('c', 1), ('c', 4), ('c', 9), ('d', 1), ('d', 4), ('d', 9)]\n"
     ]
    }
   ],
   "source": [
    "#Q33. Develop a program that generates a list of all possible combinations of two lists using list comprehension\n",
    "\n",
    "\n",
    "list_1 = [\"b\", \"c\", \"d\"]\n",
    "list_2 = [1, 4, 9]\n",
    " \n",
    "unique_combinations = []\n",
    "[unique_combinations.append((list_1[i], list_2[j])) for i in range(len(list_1)) for j in range(len(list_2))]\n",
    "print(unique_combinations)"
   ]
  },
  {
   "cell_type": "raw",
   "id": "4cf4c36a-50a0-401f-96cc-9cebcbae6d33",
   "metadata": {},
   "source": [
    "Take 2 variable and intailize with two list .\n",
    "\n",
    "Now take an empty list unique_combinations and now with the help of list comprehension and for loop append it in unique_combinations\n",
    "\n",
    "Finaly print unique_combinations and pogram ends"
   ]
  },
  {
   "cell_type": "code",
   "execution_count": 2,
   "id": "9b38275b-d40c-441c-9563-76c523fe3833",
   "metadata": {},
   "outputs": [
    {
     "name": "stdin",
     "output_type": "stream",
     "text": [
      "Enter the size of the list  7\n"
     ]
    },
    {
     "name": "stdout",
     "output_type": "stream",
     "text": [
      "\n",
      "\n"
     ]
    },
    {
     "name": "stdin",
     "output_type": "stream",
     "text": [
      "Enter the list items separated by space  11 22 33 44 55 11 66\n"
     ]
    },
    {
     "name": "stdout",
     "output_type": "stream",
     "text": [
      "Mean :  34.57142857142858\n",
      "Median : [44]\n",
      "Mode :  11\n"
     ]
    }
   ],
   "source": [
    "#Q34. Write a program that calculates the mean, median, and mode of a list of numbers using list comprehension.\n",
    "\n",
    "\n",
    "\n",
    "\n",
    "def mean(lst,l):\n",
    "    res = sum([i/l for i in lst])\n",
    "    return res\n",
    "\n",
    "\n",
    "def median(lst,l):\n",
    "    if l%2==0:\n",
    "        med=sum([lst[i] for i in range (l) if i==l/2 or i==(l/2-1)])\n",
    "        med=med/2\n",
    "        return med\n",
    "    else:\n",
    "        med=[lst[i] for i in range (l) if i==(l-1)/2]\n",
    "        return med\n",
    "\n",
    "def mode(lst):\n",
    "\n",
    "    nums_dict = {x: lst.count(x) for x in lst}\n",
    "\n",
    "    return max(nums_dict, key=nums_dict.get)\n",
    "\n",
    "\n",
    "\n",
    "\n",
    "l = int(input(\"Enter the size of the list \"))\n",
    "print(\"\\n\")\n",
    "lst=list(int(num) for num in input(\"Enter the list items separated by space \").strip().split())[:l]\n",
    "Mean=mean(lst,l)\n",
    "Median=median(lst,l)\n",
    "Mode=  mode(lst)\n",
    "print(\"Mean : \",Mean)\n",
    "print(\"Median :\",Median)\n",
    "print(\"Mode : \",Mode)"
   ]
  },
  {
   "cell_type": "markdown",
   "id": "92a076e1-2bf1-42f3-8a6b-15b4ccabd7e1",
   "metadata": {},
   "source": [
    "Define 3 function mean ,median & mode\n",
    "\n",
    "Firstly in mean function with the help of list comprehension , for loop and sum function find the mean and return the value in the last\n",
    "\n",
    "Now in median function with the help of list comprehension , for loop and conditional statement  find the median and return the value in the last\n",
    "\n",
    "Finaly in mode function with the help of list comprehension , for loop and count function find the mode and return the value in the last\n",
    "\n",
    "In drivers code take a list as user input and one by one call all the 3 function and store return value in different variables.\n",
    "\n",
    "Finaly print the three variables and program ends."
   ]
  },
  {
   "cell_type": "code",
   "execution_count": 14,
   "id": "61f1c8cf-792c-40e3-b242-3decd565f58a",
   "metadata": {},
   "outputs": [
    {
     "name": "stdin",
     "output_type": "stream",
     "text": [
      "Enter the number of rows:  6\n"
     ]
    },
    {
     "name": "stdout",
     "output_type": "stream",
     "text": [
      "[[1], [1, 1], [1, 2, 1], [1, 3, 3, 1], [1, 4, 6, 4, 1], [1, 5, 10, 10, 5, 1]]\n"
     ]
    }
   ],
   "source": [
    "#Q35. Create a program that generates Pascal's triangle up to a specified number of rows using list comprehension.\n",
    "\n",
    "\n",
    "\n",
    "\n",
    "\n",
    "def pascal_triangle(n):\n",
    "    triangle = [[1]]\n",
    "    for i in range(1, n):\n",
    "        row = [1] + [sum(j) for j in zip(triangle[i - 1], triangle[i - 1][1:])] + [1]\n",
    "        triangle.append(row)\n",
    "    return triangle \n",
    "\n",
    "\n",
    "\n",
    "n = int(input(\"Enter the number of rows: \"))\n",
    "print(pascal_triangle(n))"
   ]
  },
  {
   "cell_type": "markdown",
   "id": "b2104fcc-a85e-40c5-b6df-f323e25ab5ad",
   "metadata": {},
   "source": [
    "This program works by first creating a list to hold the rows of the triangle. \n",
    "\n",
    "Then, it iterates through each row, creating a list to hold the values in the row. \n",
    "\n",
    "Next, it iterates through each position in the row, calculating the value using the binomial coefficient formula. \n",
    "\n",
    "Finally, it appends the value to the row and the row to the triangle"
   ]
  },
  {
   "cell_type": "code",
   "execution_count": 19,
   "id": "e8f0cdb8-4e02-4369-be6b-c7aa061cce66",
   "metadata": {},
   "outputs": [
    {
     "name": "stdin",
     "output_type": "stream",
     "text": [
      "Enter the value of start:  1\n",
      "Enter the value of end:  5\n"
     ]
    },
    {
     "name": "stdout",
     "output_type": "stream",
     "text": [
      "Factorial of all the numbers of the given range :  [1, 2, 6, 24, 120]\n",
      "Sum of the factorial digits :  [[1, 2, 6, 6, 3]]\n"
     ]
    }
   ],
   "source": [
    "#Q36. Develop a program that calculates the sum of the digits of a factorial of numbers from 1 to 5 using list comprehension\n",
    "\n",
    "\n",
    "def factorial(n):\n",
    "    if n == 0:\n",
    "        return 1\n",
    "    else:\n",
    "        return n * factorial(n-1)\n",
    "    \n",
    "\n",
    "    \n",
    "n = int(input('Enter the value of start: '))\n",
    "m= int(input('Enter the value of end: '))\n",
    "lst=[i for i in range (n,m+1)]\n",
    "myList=list(map(factorial,lst))\n",
    "print(\"Factorial of all the numbers of the given range : \",myList)\n",
    "digitSumList = [list(map(lambda ele: sum(int(sub) for sub in str(ele)), myList))]\n",
    "print(\"Sum of the factorial digits : \",digitSumList)"
   ]
  },
  {
   "cell_type": "markdown",
   "id": "6ab119cc-7726-4bac-bb00-823301334931",
   "metadata": {},
   "source": [
    "Define a function to find factorial of a number.\n",
    "\n",
    "Take 2 variable to take input by the user for start and end point .\n",
    "\n",
    "Now with the help list comprehension and for loop create a list .\n",
    "\n",
    "Now create a variable to store the list of factorial and with the help of map and defined function find the list of factorial and store it in the same\n",
    "\n",
    "Now by using list comprehension calculate the sum of the digits of the factorial of number & store it in a variable.\n",
    "\n",
    "Finaly print the variable & program ends."
   ]
  },
  {
   "cell_type": "code",
   "execution_count": 8,
   "id": "41e99783-a107-4807-9f7c-39d6d1c42352",
   "metadata": {},
   "outputs": [
    {
     "name": "stdin",
     "output_type": "stream",
     "text": [
      "Enter your sentence :  My name is Paul Heyman and I am the advocate of Tribal cheif Roman Reigns\n"
     ]
    },
    {
     "name": "stdout",
     "output_type": "stream",
     "text": [
      "Longest string is : advocate\n"
     ]
    }
   ],
   "source": [
    "#Q37. Write a program that finds the longest word in a sentence using list comprehension\n",
    "\n",
    "\n",
    "\n",
    "s=str(input(\"Enter your sentence : \"))\n",
    "r=s.split()\n",
    "lengths = [len(a) for a in r]\n",
    "longest_index = lengths.index(max(lengths))\n",
    "longest_string = r[longest_index]\n",
    "print(\"Longest string is : \" + longest_string)"
   ]
  },
  {
   "cell_type": "markdown",
   "id": "75a4aa51-5b4d-4636-819e-7f9917923b32",
   "metadata": {},
   "source": [
    "Initalize a variable to store the sentence taken as input from user.\n",
    "\n",
    "Now with the help of the split function convert input sentence into a list.\n",
    "\n",
    "Now by using list comprehension & for loop find the list which contains the length of the string stored in the previous variable.\n",
    "\n",
    "After that by using max function find the word with highest length and store it in a variable.\n",
    "\n",
    "Finaly print the variable & program ends."
   ]
  },
  {
   "cell_type": "code",
   "execution_count": 1,
   "id": "c236b5bb-ad1d-451d-8e32-d5805c2cb593",
   "metadata": {},
   "outputs": [
    {
     "name": "stdout",
     "output_type": "stream",
     "text": [
      "['tropical']\n"
     ]
    }
   ],
   "source": [
    "#Q38. Create a program that filters a list of strings to include only those with more than three vowels using list comprehension.\n",
    "\n",
    "\n",
    "vowels = 'aeiouAEIOU'\n",
    "\n",
    "def filter_strings(strings):\n",
    "  return [string for string in strings if len([vowel for vowel in string if vowel in vowels]) >= 3]\n",
    "\n",
    "strings = ['hello', 'world', 'this', 'is', 'a', 'tropical',\"cyclone\"]\n",
    "filtered_strings = filter_strings(strings)\n",
    "print(filtered_strings)"
   ]
  },
  {
   "cell_type": "markdown",
   "id": "eb6825a3-7649-4112-841f-f96c23727ad5",
   "metadata": {},
   "source": [
    "Create a variable to store vowels in both case upper & lower.\n",
    "\n",
    "Now define a function for filtering a list of strings to include only those with more than three vowels with the help of list comprehension\n",
    "& for loop.\n",
    "\n",
    "In the drivers code define a list of strings and call a function & store the function return value in a variable.\n",
    "\n",
    "Finaly print the variable and program ends."
   ]
  },
  {
   "cell_type": "code",
   "execution_count": 3,
   "id": "03ecdb87-2baa-49b6-a911-b4148a2c5bbb",
   "metadata": {},
   "outputs": [
    {
     "name": "stdin",
     "output_type": "stream",
     "text": [
      "Enter the value of start:  1\n",
      "Enter the value of end:  1000\n"
     ]
    },
    {
     "name": "stdout",
     "output_type": "stream",
     "text": [
      "Sum of the number from starting point to end ppoint is : 500500\n"
     ]
    }
   ],
   "source": [
    "#Q39. Develop a program that calculates the sum of the digits of numbers from 1 to 1000 using list comprehension.\n",
    "\n",
    "\n",
    "\n",
    "n = int(input('Enter the value of start: '))\n",
    "m = int(input('Enter the value of end: '))\n",
    "lst=[i for i in range(n,m+1)]\n",
    "total=sum(lst)\n",
    "print(\"Sum of the number from starting point to end point is :\",total)"
   ]
  },
  {
   "cell_type": "markdown",
   "id": "4f5f6d56-77fa-4fd4-8a5c-e03be6c23ef6",
   "metadata": {},
   "source": [
    "Take 2 variable to take input by the user for start and end point .\n",
    "\n",
    "Now with the help list comprehension and for loop create a list & store it in variable.\n",
    "\n",
    "Finaly create a variable to store the sum of the list created and store the sum using sum function.\n",
    "\n",
    "Program ends."
   ]
  },
  {
   "cell_type": "code",
   "execution_count": 23,
   "id": "79dd6810-eada-49f8-9b7d-eded0f1e24f0",
   "metadata": {},
   "outputs": [
    {
     "name": "stdin",
     "output_type": "stream",
     "text": [
      "Enter the value of start:  10\n",
      "Enter the value of end:  1000\n"
     ]
    },
    {
     "name": "stdout",
     "output_type": "stream",
     "text": [
      "[11, 101, 131, 151, 181, 191, 313, 353, 373, 383, 727, 757, 787, 797, 919, 929]\n"
     ]
    }
   ],
   "source": [
    "#Q40. Write a program that generates a list of prime palindromic numbers using list comprehension\n",
    "\n",
    "\n",
    "def is_prime(n):\n",
    "    for i in range(2, int(n**0.5) + 1):\n",
    "        if n % i == 0:\n",
    "            return False\n",
    "    return True\n",
    "\n",
    "def is_palindrome(n):\n",
    "    n_str = str(n)\n",
    "    return n_str == n_str[::-1]\n",
    "\n",
    "def generate_prime_palindromes(n,m):\n",
    "    prime_palindromes = []\n",
    "    [prime_palindromes.append(i) for i in range(n, m)if is_prime(i) and is_palindrome(i)]\n",
    "    return prime_palindromes\n",
    "\n",
    "\n",
    "\n",
    "\n",
    "n = int(input('Enter the value of start: '))\n",
    "m = int(input('Enter the value of end: '))\n",
    "print(generate_prime_palindromes(n,m))"
   ]
  },
  {
   "cell_type": "markdown",
   "id": "a83d66e6-f05a-4457-9158-9431cc406d85",
   "metadata": {},
   "source": [
    "This program first defines two functions: is_prime() and is_palindrome().\n",
    "\n",
    "The is_prime() function checks if a number is prime, and the is_palindrome() function checks if a number is a palindrome.\n",
    "\n",
    "The generate_prime_palindromes() function then generates a list of prime palindromic numbers by iterating over all numbers from starting point to end point. \n",
    "\n",
    "Now with help of list comprehension,two self defined function , coditional statement and append function store palindrome numbers in the empty list prime_palindromes defined in the starting of the function \n",
    "\n",
    "In the drivers code,Take 2 variable to take input by the user for start and end point .\n",
    "\n",
    "Finally, the generate_prime_palindromes() function is called with the two argument n (starting point) & m (end point) \n",
    "\n",
    "The list of prime palindromic numbers should be  printed as the function generate_prime_palindromes will return it .\n",
    "\n",
    "Program ends."
   ]
  },
  {
   "cell_type": "code",
   "execution_count": null,
   "id": "8be7cd81-29f0-43c0-803e-01937f372958",
   "metadata": {},
   "outputs": [],
   "source": []
  }
 ],
 "metadata": {
  "kernelspec": {
   "display_name": "Python 3 (ipykernel)",
   "language": "python",
   "name": "python3"
  },
  "language_info": {
   "codemirror_mode": {
    "name": "ipython",
    "version": 3
   },
   "file_extension": ".py",
   "mimetype": "text/x-python",
   "name": "python",
   "nbconvert_exporter": "python",
   "pygments_lexer": "ipython3",
   "version": "3.10.8"
  }
 },
 "nbformat": 4,
 "nbformat_minor": 5
}
